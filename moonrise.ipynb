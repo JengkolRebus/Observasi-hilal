{
  "nbformat": 4,
  "nbformat_minor": 0,
  "metadata": {
    "colab": {
      "name": "moonrise.ipynb",
      "provenance": [],
      "collapsed_sections": [],
      "authorship_tag": "ABX9TyN9UF6TvOKCd2vB0OPGT+PG",
      "include_colab_link": true
    },
    "kernelspec": {
      "name": "python3",
      "display_name": "Python 3"
    }
  },
  "cells": [
    {
      "cell_type": "markdown",
      "metadata": {
        "id": "view-in-github",
        "colab_type": "text"
      },
      "source": [
        "<a href=\"https://colab.research.google.com/github/JengkolRebus/Observasi-hilal/blob/main/moonrise.ipynb\" target=\"_parent\"><img src=\"https://colab.research.google.com/assets/colab-badge.svg\" alt=\"Open In Colab\"/></a>"
      ]
    },
    {
      "cell_type": "code",
      "metadata": {
        "colab": {
          "base_uri": "https://localhost:8080/"
        },
        "id": "qZgM_H9bicjJ",
        "outputId": "d46541b8-e762-48ce-a7bd-9ba86cedcf2a"
      },
      "source": [
        "!pip install skyfield\n"
      ],
      "execution_count": null,
      "outputs": [
        {
          "output_type": "stream",
          "text": [
            "Requirement already satisfied: skyfield in /usr/local/lib/python3.6/dist-packages (1.33)\n",
            "Requirement already satisfied: certifi>=2017.4.17 in /usr/local/lib/python3.6/dist-packages (from skyfield) (2020.11.8)\n",
            "Requirement already satisfied: sgp4>=2.2 in /usr/local/lib/python3.6/dist-packages (from skyfield) (2.13)\n",
            "Requirement already satisfied: numpy in /usr/local/lib/python3.6/dist-packages (from skyfield) (1.18.5)\n",
            "Requirement already satisfied: jplephem>=2.13 in /usr/local/lib/python3.6/dist-packages (from skyfield) (2.15)\n"
          ],
          "name": "stdout"
        }
      ]
    },
    {
      "cell_type": "code",
      "metadata": {
        "id": "fZ_Jnv2nnHwm"
      },
      "source": [
        "# P4 = 11:53:20 UT / 18:53:20 WIB\n",
        "\n",
        "moonrise = []"
      ],
      "execution_count": null,
      "outputs": []
    },
    {
      "cell_type": "code",
      "metadata": {
        "id": "UZsvbzAUig-C",
        "colab": {
          "base_uri": "https://localhost:8080/"
        },
        "outputId": "5efd7033-ec43-4bdf-8dcf-87544b4f138c"
      },
      "source": [
        "from skyfield.api import load, Topos\n",
        "from skyfield import almanac\n",
        "from datetime import datetime, timedelta\n",
        "from pytz import timezone\n",
        "\n",
        "jkt = timezone('Asia/Jakarta')\n",
        "e = load('de421.bsp')\n",
        "ts = load.timescale()\n",
        "\n",
        "# '0.04304903451091923 S', '109.29207640910793 E'\n",
        "# '0.0206 S', '109.3414 E'\n",
        "# '0.0263 S', '109.3425 E'\n",
        "OBS_pon = ['0.0263 S', '109.3425 E']\n",
        "OBS = ['7.83305556 S','110.38305556 E']\n",
        "loc = Topos(OBS[0], OBS[1])\n",
        "print(loc)"
      ],
      "execution_count": null,
      "outputs": [
        {
          "output_type": "stream",
          "text": [
            "Earth latitude -07deg 49' 59.0\" N longitude 110deg 22' 59.0\" E\n"
          ],
          "name": "stdout"
        }
      ]
    },
    {
      "cell_type": "code",
      "metadata": {
        "colab": {
          "base_uri": "https://localhost:8080/"
        },
        "id": "ozR7zqrujtDU",
        "outputId": "e5a2e01f-a665-48fb-e389-edbaf228ab8c"
      },
      "source": [
        "t0 = ts.utc(2020, 11, 30)\n",
        "t1 = ts.utc(2020, 12, 1)\n",
        "p4 = ts.utc(2020, 11, 30, 11, 53, 20)\n",
        "f = almanac.risings_and_settings(e, e['moon'], loc)\n",
        "t, y = almanac.find_discrete(t0, t1, f)\n",
        "\n",
        "print(loc)\n",
        "for ti, yi in zip(t, y):\n",
        "  if(yi==True):\n",
        "    moonrise = ti\n",
        "    print('MoonRise:', ti.astimezone(jkt))"
      ],
      "execution_count": null,
      "outputs": [
        {
          "output_type": "stream",
          "text": [
            "Earth latitude -07deg 49' 59.0\" N longitude 110deg 22' 59.0\" E\n",
            "MoonRise: 2020-11-30 17:43:50.067248+07:00\n"
          ],
          "name": "stdout"
        }
      ]
    },
    {
      "cell_type": "code",
      "metadata": {
        "colab": {
          "base_uri": "https://localhost:8080/"
        },
        "id": "9SUYdShQj4Z0",
        "outputId": "ac09c63e-c00f-4765-f081-568250bc7728"
      },
      "source": [
        "# Find Moon Position From MoonRise to the end of ecplipse\n",
        "time = []\n",
        "alt = []\n",
        "az = []\n",
        "\n",
        "t3 = moonrise.utc\n",
        "# print(t3)\n",
        "interval = t3[4]\n",
        "\n",
        "t5 = ts.utc(t3[0], t3[1], t3[2], t3[3], interval, t3[5])\n",
        "\n",
        "\n",
        "location = e['earth'] + loc\n",
        "print(loc)\n",
        "# print('MoonRise:', t5.astimezone(jkt))\n",
        "\n",
        "f = almanac.sunrise_sunset(e, loc)\n",
        "t, y = almanac.find_discrete(t0, t1, f)\n",
        "for ti, yi, in zip(t, y):\n",
        "  if(yi==False):\n",
        "    sunset = ti\n",
        "    print()\n",
        "    print('Sunset:', ti.astimezone(jkt))\n",
        "\n",
        "astro = location.at(t5).observe(e['moon'])\n",
        "alt, az, d = astro.apparent().altaz()\n",
        "\n",
        "print()\n",
        "print('Moonrise Position:')\n",
        "print('Time:', t5.astimezone(jkt))\n",
        "print('Azimuth:', az)\n",
        "print('Altitude:', alt)\n",
        "\n",
        "astro_end = location.at(p4).observe(e['moon'])\n",
        "e_alt, e_az, e_d = astro_end.apparent().altaz()\n",
        "print()\n",
        "print('Moon at P4(Last Contact):')\n",
        "print('Time:', p4.astimezone(jkt))\n",
        "print('Azimuth:', e_az)\n",
        "print('Altitude:', e_alt)"
      ],
      "execution_count": null,
      "outputs": [
        {
          "output_type": "stream",
          "text": [
            "Earth latitude -07deg 49' 59.0\" N longitude 110deg 22' 59.0\" E\n",
            "\n",
            "Sunset: 2020-11-30 17:43:27.971653+07:00\n",
            "\n",
            "Moonrise Position:\n",
            "Time: 2020-11-30 17:43:50.067248+07:00\n",
            "Azimuth: 68deg 52' 26.2\"\n",
            "Altitude: -00deg 34' 00.0\"\n",
            "\n",
            "Moon at P4(Last Contact):\n",
            "Time: 2020-11-30 18:53:20+07:00\n",
            "Azimuth: 65deg 30' 42.3\"\n",
            "Altitude: 14deg 48' 17.8\"\n"
          ],
          "name": "stdout"
        }
      ]
    },
    {
      "cell_type": "code",
      "metadata": {
        "id": "Sn_V3fhw9AyY"
      },
      "source": [
        ""
      ],
      "execution_count": null,
      "outputs": []
    }
  ]
}